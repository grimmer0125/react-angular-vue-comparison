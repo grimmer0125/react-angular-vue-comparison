{
 "cells": [
  {
   "cell_type": "code",
   "execution_count": 1,
   "metadata": {},
   "outputs": [
    {
     "data": {
      "text/html": [
       "<script>requirejs.config({paths: { 'plotly': ['https://cdn.plot.ly/plotly-latest.min']},});if(!window.Plotly) {{require(['plotly'],function(plotly) {window.Plotly=plotly;});}}</script>"
      ],
      "text/vnd.plotly.v1+html": [
       "<script>requirejs.config({paths: { 'plotly': ['https://cdn.plot.ly/plotly-latest.min']},});if(!window.Plotly) {{require(['plotly'],function(plotly) {window.Plotly=plotly;});}}</script>"
      ]
     },
     "metadata": {},
     "output_type": "display_data"
    }
   ],
   "source": [
    "import plotly\n",
    "import plotly.graph_objs as go\n",
    "plotly.offline.init_notebook_mode(connected=True)"
   ]
  },
  {
   "cell_type": "code",
   "execution_count": 2,
   "metadata": {
    "collapsed": true
   },
   "outputs": [],
   "source": [
    "from analysis import Analysis"
   ]
  },
  {
   "cell_type": "code",
   "execution_count": 3,
   "metadata": {
    "collapsed": true
   },
   "outputs": [],
   "source": [
    "cc = Analysis()"
   ]
  },
  {
   "cell_type": "code",
   "execution_count": 4,
   "metadata": {},
   "outputs": [
    {
     "name": "stdout",
     "output_type": "stream",
     "text": [
      "read_render\n"
     ]
    }
   ],
   "source": [
    "fig=cc.read_render()"
   ]
  },
  {
   "cell_type": "code",
   "execution_count": 5,
   "metadata": {},
   "outputs": [
    {
     "data": {
      "application/vnd.plotly.v1+json": {
       "data": [
        {
         "name": "vuejs-vue",
         "type": "bar",
         "x": [
          "China",
          "United States",
          "Brazil",
          "Germany",
          "France",
          "United Kingdom",
          "India",
          "Canada",
          "Russia",
          "Japan",
          "Australia",
          "Taiwan",
          "Netherlands",
          "Ukraine",
          "Poland",
          "Spain",
          "Turkey",
          "Indonesia",
          "South Korea",
          "Sweden",
          "Italy",
          "Vietnam",
          "Switzerland",
          "Mexico",
          "Belgium",
          "Philippines",
          "Thailand",
          "Portugal",
          "Singapore",
          "Argentina",
          "Iran",
          "Denmark",
          "Austria"
         ],
         "y": [
          15836,
          8263,
          2139,
          1816,
          1657,
          1614,
          1579,
          1285,
          1285,
          1204,
          708,
          664,
          648,
          643,
          613,
          611,
          596,
          494,
          450,
          411,
          411,
          351,
          328,
          281,
          252,
          250,
          246,
          238,
          238,
          235,
          221,
          218,
          203
         ]
        },
        {
         "name": "facebook-react",
         "type": "bar",
         "x": [
          "United States",
          "China",
          "United Kingdom",
          "India",
          "Brazil",
          "Germany",
          "Canada",
          "France",
          "Russia",
          "Japan",
          "Australia",
          "Ukraine",
          "Netherlands",
          "Taiwan",
          "Poland",
          "Spain",
          "South Korea",
          "Turkey",
          "Sweden",
          "Indonesia",
          "Italy",
          "Vietnam",
          "Switzerland",
          "Singapore",
          "Mexico",
          "Thailand",
          "Belgium",
          "Finland",
          "Portugal",
          "Czechia",
          "Philippines",
          "Argentina",
          "Norway",
          "Denmark",
          "Iran",
          "New Zealand",
          "Israel",
          "Ireland",
          "Belarus",
          "Romania",
          "Hong Kong",
          "Austria",
          "Bangladesh",
          "Colombia"
         ],
         "y": [
          14193,
          12033,
          2507,
          2445,
          2340,
          2048,
          1816,
          1814,
          1478,
          1238,
          1091,
          816,
          727,
          724,
          708,
          691,
          591,
          557,
          535,
          483,
          477,
          436,
          364,
          351,
          325,
          313,
          298,
          298,
          284,
          283,
          282,
          278,
          273,
          265,
          243,
          236,
          236,
          232,
          228,
          219,
          213,
          213,
          209,
          207
         ]
        },
        {
         "name": "angular-angular",
         "type": "bar",
         "x": [
          "United States",
          "China",
          "Brazil",
          "Germany",
          "India",
          "France",
          "United Kingdom",
          "Canada",
          "Russia",
          "Ukraine",
          "Japan",
          "Spain",
          "Australia",
          "Poland",
          "Netherlands",
          "Switzerland",
          "Turkey",
          "Italy"
         ],
         "y": [
          4049,
          3611,
          1154,
          1089,
          1060,
          918,
          796,
          594,
          580,
          458,
          394,
          373,
          350,
          350,
          302,
          238,
          218,
          205
         ]
        }
       ],
       "layout": {
        "barmode": "group"
       }
      },
      "text/html": [
       "<div id=\"c5677ab9-ee97-4256-b44f-ebe88d67b438\" style=\"height: 525px; width: 100%;\" class=\"plotly-graph-div\"></div><script type=\"text/javascript\">require([\"plotly\"], function(Plotly) { window.PLOTLYENV=window.PLOTLYENV || {};window.PLOTLYENV.BASE_URL=\"https://plot.ly\";Plotly.newPlot(\"c5677ab9-ee97-4256-b44f-ebe88d67b438\", [{\"type\": \"bar\", \"x\": [\"China\", \"United States\", \"Brazil\", \"Germany\", \"France\", \"United Kingdom\", \"India\", \"Canada\", \"Russia\", \"Japan\", \"Australia\", \"Taiwan\", \"Netherlands\", \"Ukraine\", \"Poland\", \"Spain\", \"Turkey\", \"Indonesia\", \"South Korea\", \"Sweden\", \"Italy\", \"Vietnam\", \"Switzerland\", \"Mexico\", \"Belgium\", \"Philippines\", \"Thailand\", \"Portugal\", \"Singapore\", \"Argentina\", \"Iran\", \"Denmark\", \"Austria\"], \"y\": [15836, 8263, 2139, 1816, 1657, 1614, 1579, 1285, 1285, 1204, 708, 664, 648, 643, 613, 611, 596, 494, 450, 411, 411, 351, 328, 281, 252, 250, 246, 238, 238, 235, 221, 218, 203], \"name\": \"vuejs-vue\"}, {\"type\": \"bar\", \"x\": [\"United States\", \"China\", \"United Kingdom\", \"India\", \"Brazil\", \"Germany\", \"Canada\", \"France\", \"Russia\", \"Japan\", \"Australia\", \"Ukraine\", \"Netherlands\", \"Taiwan\", \"Poland\", \"Spain\", \"South Korea\", \"Turkey\", \"Sweden\", \"Indonesia\", \"Italy\", \"Vietnam\", \"Switzerland\", \"Singapore\", \"Mexico\", \"Thailand\", \"Belgium\", \"Finland\", \"Portugal\", \"Czechia\", \"Philippines\", \"Argentina\", \"Norway\", \"Denmark\", \"Iran\", \"New Zealand\", \"Israel\", \"Ireland\", \"Belarus\", \"Romania\", \"Hong Kong\", \"Austria\", \"Bangladesh\", \"Colombia\"], \"y\": [14193, 12033, 2507, 2445, 2340, 2048, 1816, 1814, 1478, 1238, 1091, 816, 727, 724, 708, 691, 591, 557, 535, 483, 477, 436, 364, 351, 325, 313, 298, 298, 284, 283, 282, 278, 273, 265, 243, 236, 236, 232, 228, 219, 213, 213, 209, 207], \"name\": \"facebook-react\"}, {\"type\": \"bar\", \"x\": [\"United States\", \"China\", \"Brazil\", \"Germany\", \"India\", \"France\", \"United Kingdom\", \"Canada\", \"Russia\", \"Ukraine\", \"Japan\", \"Spain\", \"Australia\", \"Poland\", \"Netherlands\", \"Switzerland\", \"Turkey\", \"Italy\"], \"y\": [4049, 3611, 1154, 1089, 1060, 918, 796, 594, 580, 458, 394, 373, 350, 350, 302, 238, 218, 205], \"name\": \"angular-angular\"}], {\"barmode\": \"group\"}, {\"showLink\": true, \"linkText\": \"Export to plot.ly\"})});</script>"
      ],
      "text/vnd.plotly.v1+html": [
       "<div id=\"c5677ab9-ee97-4256-b44f-ebe88d67b438\" style=\"height: 525px; width: 100%;\" class=\"plotly-graph-div\"></div><script type=\"text/javascript\">require([\"plotly\"], function(Plotly) { window.PLOTLYENV=window.PLOTLYENV || {};window.PLOTLYENV.BASE_URL=\"https://plot.ly\";Plotly.newPlot(\"c5677ab9-ee97-4256-b44f-ebe88d67b438\", [{\"type\": \"bar\", \"x\": [\"China\", \"United States\", \"Brazil\", \"Germany\", \"France\", \"United Kingdom\", \"India\", \"Canada\", \"Russia\", \"Japan\", \"Australia\", \"Taiwan\", \"Netherlands\", \"Ukraine\", \"Poland\", \"Spain\", \"Turkey\", \"Indonesia\", \"South Korea\", \"Sweden\", \"Italy\", \"Vietnam\", \"Switzerland\", \"Mexico\", \"Belgium\", \"Philippines\", \"Thailand\", \"Portugal\", \"Singapore\", \"Argentina\", \"Iran\", \"Denmark\", \"Austria\"], \"y\": [15836, 8263, 2139, 1816, 1657, 1614, 1579, 1285, 1285, 1204, 708, 664, 648, 643, 613, 611, 596, 494, 450, 411, 411, 351, 328, 281, 252, 250, 246, 238, 238, 235, 221, 218, 203], \"name\": \"vuejs-vue\"}, {\"type\": \"bar\", \"x\": [\"United States\", \"China\", \"United Kingdom\", \"India\", \"Brazil\", \"Germany\", \"Canada\", \"France\", \"Russia\", \"Japan\", \"Australia\", \"Ukraine\", \"Netherlands\", \"Taiwan\", \"Poland\", \"Spain\", \"South Korea\", \"Turkey\", \"Sweden\", \"Indonesia\", \"Italy\", \"Vietnam\", \"Switzerland\", \"Singapore\", \"Mexico\", \"Thailand\", \"Belgium\", \"Finland\", \"Portugal\", \"Czechia\", \"Philippines\", \"Argentina\", \"Norway\", \"Denmark\", \"Iran\", \"New Zealand\", \"Israel\", \"Ireland\", \"Belarus\", \"Romania\", \"Hong Kong\", \"Austria\", \"Bangladesh\", \"Colombia\"], \"y\": [14193, 12033, 2507, 2445, 2340, 2048, 1816, 1814, 1478, 1238, 1091, 816, 727, 724, 708, 691, 591, 557, 535, 483, 477, 436, 364, 351, 325, 313, 298, 298, 284, 283, 282, 278, 273, 265, 243, 236, 236, 232, 228, 219, 213, 213, 209, 207], \"name\": \"facebook-react\"}, {\"type\": \"bar\", \"x\": [\"United States\", \"China\", \"Brazil\", \"Germany\", \"India\", \"France\", \"United Kingdom\", \"Canada\", \"Russia\", \"Ukraine\", \"Japan\", \"Spain\", \"Australia\", \"Poland\", \"Netherlands\", \"Switzerland\", \"Turkey\", \"Italy\"], \"y\": [4049, 3611, 1154, 1089, 1060, 918, 796, 594, 580, 458, 394, 373, 350, 350, 302, 238, 218, 205], \"name\": \"angular-angular\"}], {\"barmode\": \"group\"}, {\"showLink\": true, \"linkText\": \"Export to plot.ly\"})});</script>"
      ]
     },
     "metadata": {},
     "output_type": "display_data"
    }
   ],
   "source": [
    "plotly.offline.iplot(fig)"
   ]
  },
  {
   "cell_type": "code",
   "execution_count": null,
   "metadata": {
    "collapsed": true
   },
   "outputs": [],
   "source": []
  }
 ],
 "metadata": {
  "kernelspec": {
   "display_name": "Python 3",
   "language": "python",
   "name": "python3"
  },
  "language_info": {
   "codemirror_mode": {
    "name": "ipython",
    "version": 3
   },
   "file_extension": ".py",
   "mimetype": "text/x-python",
   "name": "python",
   "nbconvert_exporter": "python",
   "pygments_lexer": "ipython3",
   "version": "3.6.2"
  }
 },
 "nbformat": 4,
 "nbformat_minor": 2
}
